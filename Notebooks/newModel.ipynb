{
 "cells": [
  {
   "cell_type": "code",
   "execution_count": 1,
   "id": "2ed644e4",
   "metadata": {},
   "outputs": [],
   "source": [
    "import numpy as np\n",
    "import pandas as pd\n",
    "import tensorflow as tf\n",
    "from tensorflow.keras.models import Sequential\n",
    "from tensorflow.keras.layers import Conv1D, MaxPooling1D, LSTM, Dense, Dropout, BatchNormalization\n",
    "from tensorflow.keras.callbacks import EarlyStopping, ModelCheckpoint, ReduceLROnPlateau\n",
    "from tensorflow.keras.regularizers import l2\n",
    "from tensorflow.keras.optimizers import Adam\n",
    "from sklearn.model_selection import train_test_split\n",
    "from sklearn.preprocessing import StandardScaler, LabelEncoder, MinMaxScaler\n",
    "from sklearn.feature_selection import SelectKBest, f_classif\n",
    "from sklearn.utils.class_weight import compute_class_weight\n",
    "from sklearn.metrics import classification_report, confusion_matrix\n",
    "import matplotlib.pyplot as plt\n",
    "import seaborn as sns\n",
    "import joblib"
   ]
  },
  {
   "cell_type": "code",
   "execution_count": 2,
   "id": "94485cdf",
   "metadata": {},
   "outputs": [],
   "source": [
    "# Set random seeds for reproducibility\n",
    "np.random.seed(42)\n",
    "tf.random.set_seed(42)\n",
    "\n",
    "# Define the optimized CNN-LSTM model\n",
    "def create_optimized_cnn_lstm_model(input_shape, num_classes):\n",
    "    model = Sequential([\n",
    "        Conv1D(filters=32, kernel_size=3, activation='relu', \n",
    "               kernel_regularizer=l2(0.005), input_shape=input_shape),\n",
    "        BatchNormalization(),\n",
    "        MaxPooling1D(pool_size=2),\n",
    "        Dropout(0.3),\n",
    "        \n",
    "        LSTM(32, dropout=0.4, recurrent_dropout=0.2),\n",
    "        \n",
    "        Dense(32, activation='relu', kernel_regularizer=l2(0.005)),\n",
    "        BatchNormalization(),\n",
    "        Dropout(0.5),\n",
    "        \n",
    "        Dense(num_classes, activation='softmax', dtype='float32')\n",
    "    ])\n",
    "    \n",
    "    model.compile(\n",
    "        optimizer=Adam(learning_rate=0.0005),\n",
    "        loss='sparse_categorical_crossentropy',\n",
    "        metrics=['accuracy']\n",
    "    )\n",
    "    \n",
    "    return model\n"
   ]
  },
  {
   "cell_type": "code",
   "execution_count": 3,
   "id": "bde723b3",
   "metadata": {},
   "outputs": [],
   "source": [
    "# Data augmentation (unchanged from original)\n",
    "def data_augmentation(X, y):\n",
    "    \"\"\"Apply data augmentation to increase dataset size and variety\"\"\"\n",
    "    try:\n",
    "        print(f\"Input shape before augmentation: {X.shape}\")\n",
    "        X_augmented = [X]\n",
    "        y_augmented = [y]\n",
    "        \n",
    "        # Adding random noise\n",
    "        noise_factor = 0.05\n",
    "        X_noise = X + np.random.normal(0, noise_factor, X.shape)\n",
    "        X_augmented.append(X_noise)\n",
    "        y_augmented.append(y)\n",
    "        \n",
    "        # Magnitude scaling\n",
    "        scale_factor = np.random.uniform(0.8, 1.2)\n",
    "        X_scaled = X * scale_factor\n",
    "        X_augmented.append(X_scaled)\n",
    "        y_augmented.append(y)\n",
    "        \n",
    "        # Time shifting (ensure compatibility with 3D input)\n",
    "        shift = np.random.randint(1, 3)\n",
    "        X_shifted = np.roll(X, shift, axis=1)\n",
    "        X_augmented.append(X_shifted)\n",
    "        y_augmented.append(y)\n",
    "        \n",
    "        # Combine augmented data\n",
    "        X_aug = np.vstack(X_augmented)\n",
    "        y_aug = np.hstack(y_augmented)\n",
    "        \n",
    "        # Shuffle the augmented data\n",
    "        indices = np.arange(X_aug.shape[0])\n",
    "        np.random.shuffle(indices)\n",
    "        X_aug = X_aug[indices]\n",
    "        y_aug = y_aug[indices]\n",
    "        \n",
    "        print(f\"Output shape after augmentation: {X_aug.shape}\")\n",
    "        return X_aug, y_aug\n",
    "    except Exception as e:\n",
    "        print(f\"Error in data_augmentation: {e}\")\n",
    "        raise\n",
    "\n"
   ]
  },
  {
   "cell_type": "code",
   "execution_count": 4,
   "id": "1119b848",
   "metadata": {},
   "outputs": [],
   "source": [
    "# Feature selection\n",
    "def select_features(X, y, k=50):\n",
    "    \"\"\"Select top k features using ANOVA F-value\"\"\"\n",
    "    try:\n",
    "        selector = SelectKBest(score_func=f_classif, k=k)\n",
    "        X_selected = selector.fit_transform(X, y)\n",
    "        selected_indices = selector.get_support(indices=True)\n",
    "        return X_selected, selected_indices\n",
    "    except Exception as e:\n",
    "        print(f\"Error in select_features: {e}\")\n",
    "        raise\n"
   ]
  },
  {
   "cell_type": "code",
   "execution_count": 5,
   "id": "24a70447",
   "metadata": {},
   "outputs": [],
   "source": [
    "def preprocess_data(X, y, test_size=0.2, val_size=0.2, k_features=50):\n",
    "    \"\"\"Preprocess data: feature selection, scale features, and split into train, test, validation sets\"\"\"\n",
    "    try:\n",
    "        print(f\"Input X shape: {X.shape}, y shape: {y.shape}\")\n",
    "        \n",
    "        # Feature selection\n",
    "        X_selected, selected_indices = select_features(X, y, k=k_features)\n",
    "        print(f\"Shape after feature selection: {X_selected.shape}\")\n",
    "        \n",
    "        # Split data into train and test sets\n",
    "        X_train, X_test, y_train, y_test = train_test_split(X_selected, y, test_size=test_size, \n",
    "                                                            stratify=y, random_state=42)\n",
    "        \n",
    "        # Split train set into train and validation sets\n",
    "        X_train, X_val, y_train, y_val = train_test_split(X_train, y_train, test_size=val_size, \n",
    "                                                          stratify=y_train, random_state=42)\n",
    "        \n",
    "        # Scale the features\n",
    "        scaler = StandardScaler()\n",
    "        X_train = scaler.fit_transform(X_train)\n",
    "        X_val = scaler.transform(X_val)\n",
    "        X_test = scaler.transform(X_test)\n",
    "        \n",
    "        # Reshape for CNN (samples, timesteps, features)\n",
    "        X_train = X_train.reshape(X_train.shape[0], X_train.shape[1], 1)\n",
    "        X_val = X_val.reshape(X_val.shape[0], X_val.shape[1], 1)\n",
    "        X_test = X_test.reshape(X_test.shape[0], X_test.shape[1], 1)\n",
    "        \n",
    "        print(f\"X_train shape: {X_train.shape}, X_val shape: {X_val.shape}, X_test shape: {X_test.shape}\")\n",
    "        return X_train, X_val, X_test, y_train, y_val, y_test, scaler, selected_indices\n",
    "    except Exception as e:\n",
    "        print(f\"Error in preprocess_data: {e}\")\n",
    "        raise\n"
   ]
  },
  {
   "cell_type": "code",
   "execution_count": 6,
   "id": "7417cbe0",
   "metadata": {},
   "outputs": [],
   "source": [
    "# Train the model\n",
    "def train_model(X_train, y_train, X_val, y_val, input_shape, num_classes, \n",
    "                batch_size=128, epochs=30):\n",
    "    \"\"\"Train the optimized CNN-LSTM model\"\"\"\n",
    "    try:\n",
    "        print(f\"Input shapes - X_train: {X_train.shape}, y_train: {y_train.shape}, X_val: {X_val.shape}\")\n",
    "        print(f\"Expected input shape for model: {input_shape}, num_classes: {num_classes}\")\n",
    "        \n",
    "        # Validate input shapes\n",
    "        if X_train.shape[1:] != input_shape:\n",
    "            raise ValueError(f\"X_train shape {X_train.shape[1:]} does not match input_shape {input_shape}\")\n",
    "        \n",
    "        # Apply data augmentation\n",
    "        X_train_aug, y_train_aug = data_augmentation(X_train, y_train)\n",
    "        \n",
    "        # Calculate class weights\n",
    "        class_weights = compute_class_weight('balanced', classes=np.unique(y_train), y=y_train)\n",
    "        class_weight_dict = dict(enumerate(class_weights))\n",
    "        print(f\"Class weights: {class_weight_dict}\")\n",
    "        \n",
    "        # Create model\n",
    "        model = create_optimized_cnn_lstm_model(input_shape, num_classes)\n",
    "        model.summary()\n",
    "        \n",
    "        # Define callbacks\n",
    "        callbacks = [\n",
    "            EarlyStopping(monitor='val_loss', patience=8, restore_best_weights=True, verbose=1),\n",
    "            ReduceLROnPlateau(monitor='val_loss', factor=0.2, patience=3, min_lr=1e-7, verbose=1),\n",
    "            ModelCheckpoint('best_optimized_cnn_lstm.h5', monitor='val_loss', save_best_only=True, verbose=1)\n",
    "        ]\n",
    "        \n",
    "        # Train the model\n",
    "        history = model.fit(\n",
    "            X_train_aug, y_train_aug,\n",
    "            epochs=epochs,\n",
    "            batch_size=batch_size,\n",
    "            validation_data=(X_val, y_val),\n",
    "            callbacks=callbacks,\n",
    "            class_weight=class_weight_dict,\n",
    "            verbose=1\n",
    "        )\n",
    "        \n",
    "        return model, history\n",
    "    except Exception as e:\n",
    "        print(f\"Error in train_model: {e}\")\n",
    "        raise\n"
   ]
  },
  {
   "cell_type": "code",
   "execution_count": 7,
   "id": "4df37ea2",
   "metadata": {},
   "outputs": [],
   "source": [
    "\n",
    "# Evaluate the model\n",
    "def evaluate_model(model, X_test, y_test):\n",
    "    \"\"\"Evaluate model performance and visualize results\"\"\"\n",
    "    try:\n",
    "        y_pred_prob = model.predict(X_test)\n",
    "        y_pred = np.argmax(y_pred_prob, axis=1)\n",
    "        \n",
    "        print('\\nClassification Report:')\n",
    "        print(classification_report(y_test, y_pred))\n",
    "        \n",
    "        plt.figure(figsize=(10, 8))\n",
    "        cm = confusion_matrix(y_test, y_pred)\n",
    "        sns.heatmap(cm, annot=True, fmt='d', cmap='Blues')\n",
    "        plt.title('Confusion Matrix')\n",
    "        plt.ylabel('True Label')\n",
    "        plt.xlabel('Predicted Label')\n",
    "        plt.show()\n",
    "        \n",
    "        test_loss, test_accuracy = model.evaluate(X_test, y_test)\n",
    "        print(f\"Test accuracy: {test_accuracy:.4f}\")\n",
    "    except Exception as e:\n",
    "        print(f\"Error in evaluate_model: {e}\")\n",
    "        raise\n"
   ]
  },
  {
   "cell_type": "code",
   "execution_count": 8,
   "id": "2781c34e",
   "metadata": {},
   "outputs": [],
   "source": [
    "# Plot training history\n",
    "def plot_training_history(history):\n",
    "    \"\"\"Plot training and validation metrics\"\"\"\n",
    "    try:\n",
    "        plt.figure(figsize=(12, 5))\n",
    "        \n",
    "        plt.subplot(1, 2, 1)\n",
    "        plt.plot(history.history['accuracy'], label='Train Accuracy')\n",
    "        plt.plot(history.history['val_accuracy'], label='Validation Accuracy')\n",
    "        plt.title('Model Accuracy')\n",
    "        plt.xlabel('Epoch')\n",
    "        plt.ylabel('Accuracy')\n",
    "        plt.legend()\n",
    "        \n",
    "        plt.subplot(1, 2, 2)\n",
    "        plt.plot(history.history['loss'], label='Train Loss')\n",
    "        plt.plot(history.history['val_loss'], label='Validation Loss')\n",
    "        plt.title('Model Loss')\n",
    "        plt.xlabel('Epoch')\n",
    "        plt.ylabel('Loss')\n",
    "        plt.legend()\n",
    "        \n",
    "        plt.tight_layout()\n",
    "        plt.show()\n",
    "    except Exception as e:\n",
    "        print(f\"Error in plot_training_history: {e}\")\n",
    "        raise\n"
   ]
  },
  {
   "cell_type": "code",
   "execution_count": 13,
   "id": "c87882c7",
   "metadata": {},
   "outputs": [
    {
     "name": "stdout",
     "output_type": "stream",
     "text": [
      "Dataset loaded with shape: (746117, 79)\n",
      "Encoded labels: [0 1 2 3 4 5]\n",
      "Input X shape: (746117, 78), y shape: (746117,)\n"
     ]
    },
    {
     "name": "stderr",
     "output_type": "stream",
     "text": [
      "c:\\Users\\ASUS\\AppData\\Local\\Programs\\Python\\Python312\\Lib\\site-packages\\sklearn\\feature_selection\\_univariate_selection.py:111: UserWarning: Features [31 33 56 57 58 59 60 61] are constant.\n",
      "  warnings.warn(\"Features %s are constant.\" % constant_features_idx, UserWarning)\n",
      "c:\\Users\\ASUS\\AppData\\Local\\Programs\\Python\\Python312\\Lib\\site-packages\\sklearn\\feature_selection\\_univariate_selection.py:112: RuntimeWarning: invalid value encountered in divide\n",
      "  f = msb / msw\n"
     ]
    },
    {
     "name": "stdout",
     "output_type": "stream",
     "text": [
      "Shape after feature selection: (746117, 50)\n",
      "X_train shape: (477514, 50, 1), X_val shape: (119379, 50, 1), X_test shape: (149224, 50, 1)\n",
      "Training set shape: (477514, 50, 1)\n",
      "Validation set shape: (119379, 50, 1)\n",
      "Test set shape: (149224, 50, 1)\n",
      "Number of classes: 6\n",
      "Selected feature indices: [ 0  1  4  6  7  8  9 10 11 12 13 15 16 17 18 20 21 22 23 25 26 27 28 30\n",
      " 36 37 38 39 40 41 42 43 44 46 47 48 51 52 53 54 63 66 67 70 72 73 74 75\n",
      " 76 77]\n",
      "Class distribution in training set: [192000  65550 129362   1013  88455   1134]\n",
      "Input shapes - X_train: (477514, 50, 1), y_train: (477514,), X_val: (119379, 50, 1)\n",
      "Expected input shape for model: (50, 1), num_classes: 6\n",
      "Input shape before augmentation: (477514, 50, 1)\n",
      "Output shape after augmentation: (1910056, 50, 1)\n",
      "Class weights: {0: np.float64(0.41450868055555556), 1: np.float64(1.2141215357233663), 2: np.float64(0.6152167303123535), 3: np.float64(78.56433037183284), 4: np.float64(0.8997305597949994), 5: np.float64(70.18136390358613)}\n"
     ]
    },
    {
     "name": "stderr",
     "output_type": "stream",
     "text": [
      "c:\\Users\\ASUS\\AppData\\Local\\Programs\\Python\\Python312\\Lib\\site-packages\\keras\\src\\layers\\convolutional\\base_conv.py:107: UserWarning: Do not pass an `input_shape`/`input_dim` argument to a layer. When using Sequential models, prefer using an `Input(shape)` object as the first layer in the model instead.\n",
      "  super().__init__(activity_regularizer=activity_regularizer, **kwargs)\n"
     ]
    },
    {
     "data": {
      "text/html": [
       "<pre style=\"white-space:pre;overflow-x:auto;line-height:normal;font-family:Menlo,'DejaVu Sans Mono',consolas,'Courier New',monospace\"><span style=\"font-weight: bold\">Model: \"sequential\"</span>\n",
       "</pre>\n"
      ],
      "text/plain": [
       "\u001b[1mModel: \"sequential\"\u001b[0m\n"
      ]
     },
     "metadata": {},
     "output_type": "display_data"
    },
    {
     "data": {
      "text/html": [
       "<pre style=\"white-space:pre;overflow-x:auto;line-height:normal;font-family:Menlo,'DejaVu Sans Mono',consolas,'Courier New',monospace\">┏━━━━━━━━━━━━━━━━━━━━━━━━━━━━━━━━━┳━━━━━━━━━━━━━━━━━━━━━━━━┳━━━━━━━━━━━━━━━┓\n",
       "┃<span style=\"font-weight: bold\"> Layer (type)                    </span>┃<span style=\"font-weight: bold\"> Output Shape           </span>┃<span style=\"font-weight: bold\">       Param # </span>┃\n",
       "┡━━━━━━━━━━━━━━━━━━━━━━━━━━━━━━━━━╇━━━━━━━━━━━━━━━━━━━━━━━━╇━━━━━━━━━━━━━━━┩\n",
       "│ conv1d (<span style=\"color: #0087ff; text-decoration-color: #0087ff\">Conv1D</span>)                 │ (<span style=\"color: #00d7ff; text-decoration-color: #00d7ff\">None</span>, <span style=\"color: #00af00; text-decoration-color: #00af00\">48</span>, <span style=\"color: #00af00; text-decoration-color: #00af00\">32</span>)         │           <span style=\"color: #00af00; text-decoration-color: #00af00\">128</span> │\n",
       "├─────────────────────────────────┼────────────────────────┼───────────────┤\n",
       "│ batch_normalization             │ (<span style=\"color: #00d7ff; text-decoration-color: #00d7ff\">None</span>, <span style=\"color: #00af00; text-decoration-color: #00af00\">48</span>, <span style=\"color: #00af00; text-decoration-color: #00af00\">32</span>)         │           <span style=\"color: #00af00; text-decoration-color: #00af00\">128</span> │\n",
       "│ (<span style=\"color: #0087ff; text-decoration-color: #0087ff\">BatchNormalization</span>)            │                        │               │\n",
       "├─────────────────────────────────┼────────────────────────┼───────────────┤\n",
       "│ max_pooling1d (<span style=\"color: #0087ff; text-decoration-color: #0087ff\">MaxPooling1D</span>)    │ (<span style=\"color: #00d7ff; text-decoration-color: #00d7ff\">None</span>, <span style=\"color: #00af00; text-decoration-color: #00af00\">24</span>, <span style=\"color: #00af00; text-decoration-color: #00af00\">32</span>)         │             <span style=\"color: #00af00; text-decoration-color: #00af00\">0</span> │\n",
       "├─────────────────────────────────┼────────────────────────┼───────────────┤\n",
       "│ dropout (<span style=\"color: #0087ff; text-decoration-color: #0087ff\">Dropout</span>)               │ (<span style=\"color: #00d7ff; text-decoration-color: #00d7ff\">None</span>, <span style=\"color: #00af00; text-decoration-color: #00af00\">24</span>, <span style=\"color: #00af00; text-decoration-color: #00af00\">32</span>)         │             <span style=\"color: #00af00; text-decoration-color: #00af00\">0</span> │\n",
       "├─────────────────────────────────┼────────────────────────┼───────────────┤\n",
       "│ lstm (<span style=\"color: #0087ff; text-decoration-color: #0087ff\">LSTM</span>)                     │ (<span style=\"color: #00d7ff; text-decoration-color: #00d7ff\">None</span>, <span style=\"color: #00af00; text-decoration-color: #00af00\">32</span>)             │         <span style=\"color: #00af00; text-decoration-color: #00af00\">8,320</span> │\n",
       "├─────────────────────────────────┼────────────────────────┼───────────────┤\n",
       "│ dense (<span style=\"color: #0087ff; text-decoration-color: #0087ff\">Dense</span>)                   │ (<span style=\"color: #00d7ff; text-decoration-color: #00d7ff\">None</span>, <span style=\"color: #00af00; text-decoration-color: #00af00\">32</span>)             │         <span style=\"color: #00af00; text-decoration-color: #00af00\">1,056</span> │\n",
       "├─────────────────────────────────┼────────────────────────┼───────────────┤\n",
       "│ batch_normalization_1           │ (<span style=\"color: #00d7ff; text-decoration-color: #00d7ff\">None</span>, <span style=\"color: #00af00; text-decoration-color: #00af00\">32</span>)             │           <span style=\"color: #00af00; text-decoration-color: #00af00\">128</span> │\n",
       "│ (<span style=\"color: #0087ff; text-decoration-color: #0087ff\">BatchNormalization</span>)            │                        │               │\n",
       "├─────────────────────────────────┼────────────────────────┼───────────────┤\n",
       "│ dropout_1 (<span style=\"color: #0087ff; text-decoration-color: #0087ff\">Dropout</span>)             │ (<span style=\"color: #00d7ff; text-decoration-color: #00d7ff\">None</span>, <span style=\"color: #00af00; text-decoration-color: #00af00\">32</span>)             │             <span style=\"color: #00af00; text-decoration-color: #00af00\">0</span> │\n",
       "├─────────────────────────────────┼────────────────────────┼───────────────┤\n",
       "│ dense_1 (<span style=\"color: #0087ff; text-decoration-color: #0087ff\">Dense</span>)                 │ (<span style=\"color: #00d7ff; text-decoration-color: #00d7ff\">None</span>, <span style=\"color: #00af00; text-decoration-color: #00af00\">6</span>)              │           <span style=\"color: #00af00; text-decoration-color: #00af00\">198</span> │\n",
       "└─────────────────────────────────┴────────────────────────┴───────────────┘\n",
       "</pre>\n"
      ],
      "text/plain": [
       "┏━━━━━━━━━━━━━━━━━━━━━━━━━━━━━━━━━┳━━━━━━━━━━━━━━━━━━━━━━━━┳━━━━━━━━━━━━━━━┓\n",
       "┃\u001b[1m \u001b[0m\u001b[1mLayer (type)                   \u001b[0m\u001b[1m \u001b[0m┃\u001b[1m \u001b[0m\u001b[1mOutput Shape          \u001b[0m\u001b[1m \u001b[0m┃\u001b[1m \u001b[0m\u001b[1m      Param #\u001b[0m\u001b[1m \u001b[0m┃\n",
       "┡━━━━━━━━━━━━━━━━━━━━━━━━━━━━━━━━━╇━━━━━━━━━━━━━━━━━━━━━━━━╇━━━━━━━━━━━━━━━┩\n",
       "│ conv1d (\u001b[38;5;33mConv1D\u001b[0m)                 │ (\u001b[38;5;45mNone\u001b[0m, \u001b[38;5;34m48\u001b[0m, \u001b[38;5;34m32\u001b[0m)         │           \u001b[38;5;34m128\u001b[0m │\n",
       "├─────────────────────────────────┼────────────────────────┼───────────────┤\n",
       "│ batch_normalization             │ (\u001b[38;5;45mNone\u001b[0m, \u001b[38;5;34m48\u001b[0m, \u001b[38;5;34m32\u001b[0m)         │           \u001b[38;5;34m128\u001b[0m │\n",
       "│ (\u001b[38;5;33mBatchNormalization\u001b[0m)            │                        │               │\n",
       "├─────────────────────────────────┼────────────────────────┼───────────────┤\n",
       "│ max_pooling1d (\u001b[38;5;33mMaxPooling1D\u001b[0m)    │ (\u001b[38;5;45mNone\u001b[0m, \u001b[38;5;34m24\u001b[0m, \u001b[38;5;34m32\u001b[0m)         │             \u001b[38;5;34m0\u001b[0m │\n",
       "├─────────────────────────────────┼────────────────────────┼───────────────┤\n",
       "│ dropout (\u001b[38;5;33mDropout\u001b[0m)               │ (\u001b[38;5;45mNone\u001b[0m, \u001b[38;5;34m24\u001b[0m, \u001b[38;5;34m32\u001b[0m)         │             \u001b[38;5;34m0\u001b[0m │\n",
       "├─────────────────────────────────┼────────────────────────┼───────────────┤\n",
       "│ lstm (\u001b[38;5;33mLSTM\u001b[0m)                     │ (\u001b[38;5;45mNone\u001b[0m, \u001b[38;5;34m32\u001b[0m)             │         \u001b[38;5;34m8,320\u001b[0m │\n",
       "├─────────────────────────────────┼────────────────────────┼───────────────┤\n",
       "│ dense (\u001b[38;5;33mDense\u001b[0m)                   │ (\u001b[38;5;45mNone\u001b[0m, \u001b[38;5;34m32\u001b[0m)             │         \u001b[38;5;34m1,056\u001b[0m │\n",
       "├─────────────────────────────────┼────────────────────────┼───────────────┤\n",
       "│ batch_normalization_1           │ (\u001b[38;5;45mNone\u001b[0m, \u001b[38;5;34m32\u001b[0m)             │           \u001b[38;5;34m128\u001b[0m │\n",
       "│ (\u001b[38;5;33mBatchNormalization\u001b[0m)            │                        │               │\n",
       "├─────────────────────────────────┼────────────────────────┼───────────────┤\n",
       "│ dropout_1 (\u001b[38;5;33mDropout\u001b[0m)             │ (\u001b[38;5;45mNone\u001b[0m, \u001b[38;5;34m32\u001b[0m)             │             \u001b[38;5;34m0\u001b[0m │\n",
       "├─────────────────────────────────┼────────────────────────┼───────────────┤\n",
       "│ dense_1 (\u001b[38;5;33mDense\u001b[0m)                 │ (\u001b[38;5;45mNone\u001b[0m, \u001b[38;5;34m6\u001b[0m)              │           \u001b[38;5;34m198\u001b[0m │\n",
       "└─────────────────────────────────┴────────────────────────┴───────────────┘\n"
      ]
     },
     "metadata": {},
     "output_type": "display_data"
    },
    {
     "data": {
      "text/html": [
       "<pre style=\"white-space:pre;overflow-x:auto;line-height:normal;font-family:Menlo,'DejaVu Sans Mono',consolas,'Courier New',monospace\"><span style=\"font-weight: bold\"> Total params: </span><span style=\"color: #00af00; text-decoration-color: #00af00\">9,958</span> (38.90 KB)\n",
       "</pre>\n"
      ],
      "text/plain": [
       "\u001b[1m Total params: \u001b[0m\u001b[38;5;34m9,958\u001b[0m (38.90 KB)\n"
      ]
     },
     "metadata": {},
     "output_type": "display_data"
    },
    {
     "data": {
      "text/html": [
       "<pre style=\"white-space:pre;overflow-x:auto;line-height:normal;font-family:Menlo,'DejaVu Sans Mono',consolas,'Courier New',monospace\"><span style=\"font-weight: bold\"> Trainable params: </span><span style=\"color: #00af00; text-decoration-color: #00af00\">9,830</span> (38.40 KB)\n",
       "</pre>\n"
      ],
      "text/plain": [
       "\u001b[1m Trainable params: \u001b[0m\u001b[38;5;34m9,830\u001b[0m (38.40 KB)\n"
      ]
     },
     "metadata": {},
     "output_type": "display_data"
    },
    {
     "data": {
      "text/html": [
       "<pre style=\"white-space:pre;overflow-x:auto;line-height:normal;font-family:Menlo,'DejaVu Sans Mono',consolas,'Courier New',monospace\"><span style=\"font-weight: bold\"> Non-trainable params: </span><span style=\"color: #00af00; text-decoration-color: #00af00\">128</span> (512.00 B)\n",
       "</pre>\n"
      ],
      "text/plain": [
       "\u001b[1m Non-trainable params: \u001b[0m\u001b[38;5;34m128\u001b[0m (512.00 B)\n"
      ]
     },
     "metadata": {},
     "output_type": "display_data"
    },
    {
     "name": "stdout",
     "output_type": "stream",
     "text": [
      "Epoch 1/30\n",
      "\u001b[1m14921/14923\u001b[0m \u001b[32m━━━━━━━━━━━━━━━━━━━\u001b[0m\u001b[37m━\u001b[0m \u001b[1m0s\u001b[0m 8ms/step - accuracy: 0.5500 - loss: 1.1632\n",
      "Epoch 1: val_loss improved from inf to 0.45247, saving model to best_optimized_cnn_lstm.h5\n"
     ]
    },
    {
     "name": "stderr",
     "output_type": "stream",
     "text": [
      "WARNING:absl:You are saving your model as an HDF5 file via `model.save()` or `keras.saving.save_model(model)`. This file format is considered legacy. We recommend using instead the native Keras format, e.g. `model.save('my_model.keras')` or `keras.saving.save_model(model, 'my_model.keras')`. \n"
     ]
    },
    {
     "name": "stdout",
     "output_type": "stream",
     "text": [
      "\u001b[1m14923/14923\u001b[0m \u001b[32m━━━━━━━━━━━━━━━━━━━━\u001b[0m\u001b[37m\u001b[0m \u001b[1m132s\u001b[0m 9ms/step - accuracy: 0.5500 - loss: 1.1631 - val_accuracy: 0.8491 - val_loss: 0.4525 - learning_rate: 5.0000e-04\n",
      "Epoch 2/30\n",
      "\u001b[1m14920/14923\u001b[0m \u001b[32m━━━━━━━━━━━━━━━━━━━\u001b[0m\u001b[37m━\u001b[0m \u001b[1m0s\u001b[0m 8ms/step - accuracy: 0.8430 - loss: 0.3651\n",
      "Epoch 2: val_loss improved from 0.45247 to 0.30316, saving model to best_optimized_cnn_lstm.h5\n"
     ]
    },
    {
     "name": "stderr",
     "output_type": "stream",
     "text": [
      "WARNING:absl:You are saving your model as an HDF5 file via `model.save()` or `keras.saving.save_model(model)`. This file format is considered legacy. We recommend using instead the native Keras format, e.g. `model.save('my_model.keras')` or `keras.saving.save_model(model, 'my_model.keras')`. \n"
     ]
    },
    {
     "name": "stdout",
     "output_type": "stream",
     "text": [
      "\u001b[1m14923/14923\u001b[0m \u001b[32m━━━━━━━━━━━━━━━━━━━━\u001b[0m\u001b[37m\u001b[0m \u001b[1m124s\u001b[0m 8ms/step - accuracy: 0.8430 - loss: 0.3651 - val_accuracy: 0.8982 - val_loss: 0.3032 - learning_rate: 5.0000e-04\n",
      "Epoch 3/30\n",
      "\u001b[1m14923/14923\u001b[0m \u001b[32m━━━━━━━━━━━━━━━━━━━━\u001b[0m\u001b[37m\u001b[0m \u001b[1m0s\u001b[0m 8ms/step - accuracy: 0.8808 - loss: 0.2767\n",
      "Epoch 3: val_loss improved from 0.30316 to 0.26403, saving model to best_optimized_cnn_lstm.h5\n"
     ]
    },
    {
     "name": "stderr",
     "output_type": "stream",
     "text": [
      "WARNING:absl:You are saving your model as an HDF5 file via `model.save()` or `keras.saving.save_model(model)`. This file format is considered legacy. We recommend using instead the native Keras format, e.g. `model.save('my_model.keras')` or `keras.saving.save_model(model, 'my_model.keras')`. \n"
     ]
    },
    {
     "name": "stdout",
     "output_type": "stream",
     "text": [
      "\u001b[1m14923/14923\u001b[0m \u001b[32m━━━━━━━━━━━━━━━━━━━━\u001b[0m\u001b[37m\u001b[0m \u001b[1m125s\u001b[0m 8ms/step - accuracy: 0.8808 - loss: 0.2767 - val_accuracy: 0.9240 - val_loss: 0.2640 - learning_rate: 5.0000e-04\n",
      "Epoch 4/30\n",
      "\u001b[1m14920/14923\u001b[0m \u001b[32m━━━━━━━━━━━━━━━━━━━\u001b[0m\u001b[37m━\u001b[0m \u001b[1m0s\u001b[0m 8ms/step - accuracy: 0.8981 - loss: 0.2427\n",
      "Epoch 4: val_loss improved from 0.26403 to 0.25588, saving model to best_optimized_cnn_lstm.h5\n"
     ]
    },
    {
     "name": "stderr",
     "output_type": "stream",
     "text": [
      "WARNING:absl:You are saving your model as an HDF5 file via `model.save()` or `keras.saving.save_model(model)`. This file format is considered legacy. We recommend using instead the native Keras format, e.g. `model.save('my_model.keras')` or `keras.saving.save_model(model, 'my_model.keras')`. \n"
     ]
    },
    {
     "name": "stdout",
     "output_type": "stream",
     "text": [
      "\u001b[1m14923/14923\u001b[0m \u001b[32m━━━━━━━━━━━━━━━━━━━━\u001b[0m\u001b[37m\u001b[0m \u001b[1m128s\u001b[0m 9ms/step - accuracy: 0.8981 - loss: 0.2427 - val_accuracy: 0.9304 - val_loss: 0.2559 - learning_rate: 5.0000e-04\n",
      "Epoch 5/30\n",
      "\u001b[1m14923/14923\u001b[0m \u001b[32m━━━━━━━━━━━━━━━━━━━━\u001b[0m\u001b[37m\u001b[0m \u001b[1m0s\u001b[0m 8ms/step - accuracy: 0.9051 - loss: 0.2297\n",
      "Epoch 5: val_loss did not improve from 0.25588\n",
      "\u001b[1m14923/14923\u001b[0m \u001b[32m━━━━━━━━━━━━━━━━━━━━\u001b[0m\u001b[37m\u001b[0m \u001b[1m129s\u001b[0m 9ms/step - accuracy: 0.9051 - loss: 0.2297 - val_accuracy: 0.9287 - val_loss: 0.2649 - learning_rate: 5.0000e-04\n",
      "Epoch 6/30\n",
      "\u001b[1m14918/14923\u001b[0m \u001b[32m━━━━━━━━━━━━━━━━━━━\u001b[0m\u001b[37m━\u001b[0m \u001b[1m0s\u001b[0m 9ms/step - accuracy: 0.9122 - loss: 0.2138\n",
      "Epoch 6: val_loss improved from 0.25588 to 0.23513, saving model to best_optimized_cnn_lstm.h5\n"
     ]
    },
    {
     "name": "stderr",
     "output_type": "stream",
     "text": [
      "WARNING:absl:You are saving your model as an HDF5 file via `model.save()` or `keras.saving.save_model(model)`. This file format is considered legacy. We recommend using instead the native Keras format, e.g. `model.save('my_model.keras')` or `keras.saving.save_model(model, 'my_model.keras')`. \n"
     ]
    },
    {
     "name": "stdout",
     "output_type": "stream",
     "text": [
      "\u001b[1m14923/14923\u001b[0m \u001b[32m━━━━━━━━━━━━━━━━━━━━\u001b[0m\u001b[37m\u001b[0m \u001b[1m130s\u001b[0m 9ms/step - accuracy: 0.9122 - loss: 0.2138 - val_accuracy: 0.9371 - val_loss: 0.2351 - learning_rate: 5.0000e-04\n",
      "Epoch 7/30\n",
      "\u001b[1m14920/14923\u001b[0m \u001b[32m━━━━━━━━━━━━━━━━━━━\u001b[0m\u001b[37m━\u001b[0m \u001b[1m0s\u001b[0m 9ms/step - accuracy: 0.9155 - loss: 0.2072\n",
      "Epoch 7: val_loss did not improve from 0.23513\n",
      "\u001b[1m14923/14923\u001b[0m \u001b[32m━━━━━━━━━━━━━━━━━━━━\u001b[0m\u001b[37m\u001b[0m \u001b[1m130s\u001b[0m 9ms/step - accuracy: 0.9155 - loss: 0.2072 - val_accuracy: 0.9367 - val_loss: 0.2407 - learning_rate: 5.0000e-04\n",
      "Epoch 8/30\n",
      "\u001b[1m14920/14923\u001b[0m \u001b[32m━━━━━━━━━━━━━━━━━━━\u001b[0m\u001b[37m━\u001b[0m \u001b[1m0s\u001b[0m 9ms/step - accuracy: 0.9187 - loss: 0.1984\n",
      "Epoch 8: val_loss improved from 0.23513 to 0.20755, saving model to best_optimized_cnn_lstm.h5\n"
     ]
    },
    {
     "name": "stderr",
     "output_type": "stream",
     "text": [
      "WARNING:absl:You are saving your model as an HDF5 file via `model.save()` or `keras.saving.save_model(model)`. This file format is considered legacy. We recommend using instead the native Keras format, e.g. `model.save('my_model.keras')` or `keras.saving.save_model(model, 'my_model.keras')`. \n"
     ]
    },
    {
     "name": "stdout",
     "output_type": "stream",
     "text": [
      "\u001b[1m14923/14923\u001b[0m \u001b[32m━━━━━━━━━━━━━━━━━━━━\u001b[0m\u001b[37m\u001b[0m \u001b[1m130s\u001b[0m 9ms/step - accuracy: 0.9187 - loss: 0.1984 - val_accuracy: 0.9434 - val_loss: 0.2075 - learning_rate: 5.0000e-04\n",
      "Epoch 9/30\n",
      "\u001b[1m14919/14923\u001b[0m \u001b[32m━━━━━━━━━━━━━━━━━━━\u001b[0m\u001b[37m━\u001b[0m \u001b[1m0s\u001b[0m 9ms/step - accuracy: 0.9222 - loss: 0.1922\n",
      "Epoch 9: val_loss did not improve from 0.20755\n",
      "\u001b[1m14923/14923\u001b[0m \u001b[32m━━━━━━━━━━━━━━━━━━━━\u001b[0m\u001b[37m\u001b[0m \u001b[1m131s\u001b[0m 9ms/step - accuracy: 0.9222 - loss: 0.1922 - val_accuracy: 0.9421 - val_loss: 0.2156 - learning_rate: 5.0000e-04\n",
      "Epoch 10/30\n",
      "\u001b[1m14920/14923\u001b[0m \u001b[32m━━━━━━━━━━━━━━━━━━━\u001b[0m\u001b[37m━\u001b[0m \u001b[1m0s\u001b[0m 9ms/step - accuracy: 0.9226 - loss: 0.1906\n",
      "Epoch 10: val_loss did not improve from 0.20755\n",
      "\u001b[1m14923/14923\u001b[0m \u001b[32m━━━━━━━━━━━━━━━━━━━━\u001b[0m\u001b[37m\u001b[0m \u001b[1m129s\u001b[0m 9ms/step - accuracy: 0.9226 - loss: 0.1906 - val_accuracy: 0.9426 - val_loss: 0.2153 - learning_rate: 5.0000e-04\n",
      "Epoch 11/30\n",
      "\u001b[1m14920/14923\u001b[0m \u001b[32m━━━━━━━━━━━━━━━━━━━\u001b[0m\u001b[37m━\u001b[0m \u001b[1m0s\u001b[0m 9ms/step - accuracy: 0.9255 - loss: 0.1861\n",
      "Epoch 11: ReduceLROnPlateau reducing learning rate to 0.00010000000474974513.\n",
      "\n",
      "Epoch 11: val_loss did not improve from 0.20755\n",
      "\u001b[1m14923/14923\u001b[0m \u001b[32m━━━━━━━━━━━━━━━━━━━━\u001b[0m\u001b[37m\u001b[0m \u001b[1m132s\u001b[0m 9ms/step - accuracy: 0.9255 - loss: 0.1861 - val_accuracy: 0.9412 - val_loss: 0.2077 - learning_rate: 5.0000e-04\n",
      "Epoch 12/30\n",
      "\u001b[1m14921/14923\u001b[0m \u001b[32m━━━━━━━━━━━━━━━━━━━\u001b[0m\u001b[37m━\u001b[0m \u001b[1m0s\u001b[0m 9ms/step - accuracy: 0.9293 - loss: 0.1759\n",
      "Epoch 12: val_loss improved from 0.20755 to 0.20249, saving model to best_optimized_cnn_lstm.h5\n"
     ]
    },
    {
     "name": "stderr",
     "output_type": "stream",
     "text": [
      "WARNING:absl:You are saving your model as an HDF5 file via `model.save()` or `keras.saving.save_model(model)`. This file format is considered legacy. We recommend using instead the native Keras format, e.g. `model.save('my_model.keras')` or `keras.saving.save_model(model, 'my_model.keras')`. \n"
     ]
    },
    {
     "name": "stdout",
     "output_type": "stream",
     "text": [
      "\u001b[1m14923/14923\u001b[0m \u001b[32m━━━━━━━━━━━━━━━━━━━━\u001b[0m\u001b[37m\u001b[0m \u001b[1m132s\u001b[0m 9ms/step - accuracy: 0.9293 - loss: 0.1759 - val_accuracy: 0.9458 - val_loss: 0.2025 - learning_rate: 1.0000e-04\n",
      "Epoch 13/30\n",
      "\u001b[1m14919/14923\u001b[0m \u001b[32m━━━━━━━━━━━━━━━━━━━\u001b[0m\u001b[37m━\u001b[0m \u001b[1m0s\u001b[0m 9ms/step - accuracy: 0.9337 - loss: 0.1619\n",
      "Epoch 13: val_loss did not improve from 0.20249\n",
      "\u001b[1m14923/14923\u001b[0m \u001b[32m━━━━━━━━━━━━━━━━━━━━\u001b[0m\u001b[37m\u001b[0m \u001b[1m131s\u001b[0m 9ms/step - accuracy: 0.9337 - loss: 0.1619 - val_accuracy: 0.9449 - val_loss: 0.2030 - learning_rate: 1.0000e-04\n",
      "Epoch 14/30\n",
      "\u001b[1m14918/14923\u001b[0m \u001b[32m━━━━━━━━━━━━━━━━━━━\u001b[0m\u001b[37m━\u001b[0m \u001b[1m0s\u001b[0m 9ms/step - accuracy: 0.9342 - loss: 0.1581\n",
      "Epoch 14: val_loss improved from 0.20249 to 0.19487, saving model to best_optimized_cnn_lstm.h5\n"
     ]
    },
    {
     "name": "stderr",
     "output_type": "stream",
     "text": [
      "WARNING:absl:You are saving your model as an HDF5 file via `model.save()` or `keras.saving.save_model(model)`. This file format is considered legacy. We recommend using instead the native Keras format, e.g. `model.save('my_model.keras')` or `keras.saving.save_model(model, 'my_model.keras')`. \n"
     ]
    },
    {
     "name": "stdout",
     "output_type": "stream",
     "text": [
      "\u001b[1m14923/14923\u001b[0m \u001b[32m━━━━━━━━━━━━━━━━━━━━\u001b[0m\u001b[37m\u001b[0m \u001b[1m132s\u001b[0m 9ms/step - accuracy: 0.9342 - loss: 0.1581 - val_accuracy: 0.9465 - val_loss: 0.1949 - learning_rate: 1.0000e-04\n",
      "Epoch 15/30\n",
      "\u001b[1m14923/14923\u001b[0m \u001b[32m━━━━━━━━━━━━━━━━━━━━\u001b[0m\u001b[37m\u001b[0m \u001b[1m0s\u001b[0m 9ms/step - accuracy: 0.9347 - loss: 0.1557\n",
      "Epoch 15: val_loss did not improve from 0.19487\n",
      "\u001b[1m14923/14923\u001b[0m \u001b[32m━━━━━━━━━━━━━━━━━━━━\u001b[0m\u001b[37m\u001b[0m \u001b[1m136s\u001b[0m 9ms/step - accuracy: 0.9347 - loss: 0.1557 - val_accuracy: 0.9465 - val_loss: 0.1953 - learning_rate: 1.0000e-04\n",
      "Epoch 16/30\n",
      "\u001b[1m14923/14923\u001b[0m \u001b[32m━━━━━━━━━━━━━━━━━━━━\u001b[0m\u001b[37m\u001b[0m \u001b[1m0s\u001b[0m 9ms/step - accuracy: 0.9340 - loss: 0.1613\n",
      "Epoch 16: val_loss did not improve from 0.19487\n",
      "\u001b[1m14923/14923\u001b[0m \u001b[32m━━━━━━━━━━━━━━━━━━━━\u001b[0m\u001b[37m\u001b[0m \u001b[1m135s\u001b[0m 9ms/step - accuracy: 0.9340 - loss: 0.1613 - val_accuracy: 0.9463 - val_loss: 0.1986 - learning_rate: 1.0000e-04\n",
      "Epoch 17/30\n",
      "\u001b[1m14918/14923\u001b[0m \u001b[32m━━━━━━━━━━━━━━━━━━━\u001b[0m\u001b[37m━\u001b[0m \u001b[1m0s\u001b[0m 9ms/step - accuracy: 0.9351 - loss: 0.1554\n",
      "Epoch 17: val_loss improved from 0.19487 to 0.17961, saving model to best_optimized_cnn_lstm.h5\n"
     ]
    },
    {
     "name": "stderr",
     "output_type": "stream",
     "text": [
      "WARNING:absl:You are saving your model as an HDF5 file via `model.save()` or `keras.saving.save_model(model)`. This file format is considered legacy. We recommend using instead the native Keras format, e.g. `model.save('my_model.keras')` or `keras.saving.save_model(model, 'my_model.keras')`. \n"
     ]
    },
    {
     "name": "stdout",
     "output_type": "stream",
     "text": [
      "\u001b[1m14923/14923\u001b[0m \u001b[32m━━━━━━━━━━━━━━━━━━━━\u001b[0m\u001b[37m\u001b[0m \u001b[1m133s\u001b[0m 9ms/step - accuracy: 0.9351 - loss: 0.1554 - val_accuracy: 0.9486 - val_loss: 0.1796 - learning_rate: 1.0000e-04\n",
      "Epoch 18/30\n",
      "\u001b[1m14918/14923\u001b[0m \u001b[32m━━━━━━━━━━━━━━━━━━━\u001b[0m\u001b[37m━\u001b[0m \u001b[1m0s\u001b[0m 9ms/step - accuracy: 0.9362 - loss: 0.1496\n",
      "Epoch 18: val_loss did not improve from 0.17961\n",
      "\u001b[1m14923/14923\u001b[0m \u001b[32m━━━━━━━━━━━━━━━━━━━━\u001b[0m\u001b[37m\u001b[0m \u001b[1m136s\u001b[0m 9ms/step - accuracy: 0.9362 - loss: 0.1496 - val_accuracy: 0.9477 - val_loss: 0.1892 - learning_rate: 1.0000e-04\n",
      "Epoch 19/30\n",
      "\u001b[1m14922/14923\u001b[0m \u001b[32m━━━━━━━━━━━━━━━━━━━\u001b[0m\u001b[37m━\u001b[0m \u001b[1m0s\u001b[0m 9ms/step - accuracy: 0.9351 - loss: 0.1531\n",
      "Epoch 19: val_loss did not improve from 0.17961\n",
      "\u001b[1m14923/14923\u001b[0m \u001b[32m━━━━━━━━━━━━━━━━━━━━\u001b[0m\u001b[37m\u001b[0m \u001b[1m136s\u001b[0m 9ms/step - accuracy: 0.9351 - loss: 0.1531 - val_accuracy: 0.9475 - val_loss: 0.1860 - learning_rate: 1.0000e-04\n",
      "Epoch 20/30\n",
      "\u001b[1m14919/14923\u001b[0m \u001b[32m━━━━━━━━━━━━━━━━━━━\u001b[0m\u001b[37m━\u001b[0m \u001b[1m0s\u001b[0m 9ms/step - accuracy: 0.9354 - loss: 0.1528\n",
      "Epoch 20: val_loss improved from 0.17961 to 0.17816, saving model to best_optimized_cnn_lstm.h5\n"
     ]
    },
    {
     "name": "stderr",
     "output_type": "stream",
     "text": [
      "WARNING:absl:You are saving your model as an HDF5 file via `model.save()` or `keras.saving.save_model(model)`. This file format is considered legacy. We recommend using instead the native Keras format, e.g. `model.save('my_model.keras')` or `keras.saving.save_model(model, 'my_model.keras')`. \n"
     ]
    },
    {
     "name": "stdout",
     "output_type": "stream",
     "text": [
      "\u001b[1m14923/14923\u001b[0m \u001b[32m━━━━━━━━━━━━━━━━━━━━\u001b[0m\u001b[37m\u001b[0m \u001b[1m136s\u001b[0m 9ms/step - accuracy: 0.9354 - loss: 0.1528 - val_accuracy: 0.9490 - val_loss: 0.1782 - learning_rate: 1.0000e-04\n",
      "Epoch 21/30\n",
      "\u001b[1m14920/14923\u001b[0m \u001b[32m━━━━━━━━━━━━━━━━━━━\u001b[0m\u001b[37m━\u001b[0m \u001b[1m0s\u001b[0m 9ms/step - accuracy: 0.9360 - loss: 0.1525\n",
      "Epoch 21: val_loss did not improve from 0.17816\n",
      "\u001b[1m14923/14923\u001b[0m \u001b[32m━━━━━━━━━━━━━━━━━━━━\u001b[0m\u001b[37m\u001b[0m \u001b[1m137s\u001b[0m 9ms/step - accuracy: 0.9360 - loss: 0.1525 - val_accuracy: 0.9486 - val_loss: 0.1806 - learning_rate: 1.0000e-04\n",
      "Epoch 22/30\n",
      "\u001b[1m14923/14923\u001b[0m \u001b[32m━━━━━━━━━━━━━━━━━━━━\u001b[0m\u001b[37m\u001b[0m \u001b[1m0s\u001b[0m 9ms/step - accuracy: 0.9354 - loss: 0.1511\n",
      "Epoch 22: val_loss did not improve from 0.17816\n",
      "\u001b[1m14923/14923\u001b[0m \u001b[32m━━━━━━━━━━━━━━━━━━━━\u001b[0m\u001b[37m\u001b[0m \u001b[1m139s\u001b[0m 9ms/step - accuracy: 0.9354 - loss: 0.1511 - val_accuracy: 0.9474 - val_loss: 0.1853 - learning_rate: 1.0000e-04\n",
      "Epoch 23/30\n",
      "\u001b[1m14919/14923\u001b[0m \u001b[32m━━━━━━━━━━━━━━━━━━━\u001b[0m\u001b[37m━\u001b[0m \u001b[1m0s\u001b[0m 9ms/step - accuracy: 0.9356 - loss: 0.1502\n",
      "Epoch 23: ReduceLROnPlateau reducing learning rate to 2.0000000949949027e-05.\n",
      "\n",
      "Epoch 23: val_loss did not improve from 0.17816\n",
      "\u001b[1m14923/14923\u001b[0m \u001b[32m━━━━━━━━━━━━━━━━━━━━\u001b[0m\u001b[37m\u001b[0m \u001b[1m138s\u001b[0m 9ms/step - accuracy: 0.9356 - loss: 0.1502 - val_accuracy: 0.9492 - val_loss: 0.1792 - learning_rate: 1.0000e-04\n",
      "Epoch 24/30\n",
      "\u001b[1m14921/14923\u001b[0m \u001b[32m━━━━━━━━━━━━━━━━━━━\u001b[0m\u001b[37m━\u001b[0m \u001b[1m0s\u001b[0m 9ms/step - accuracy: 0.9366 - loss: 0.1480\n",
      "Epoch 24: val_loss did not improve from 0.17816\n",
      "\u001b[1m14923/14923\u001b[0m \u001b[32m━━━━━━━━━━━━━━━━━━━━\u001b[0m\u001b[37m\u001b[0m \u001b[1m139s\u001b[0m 9ms/step - accuracy: 0.9366 - loss: 0.1480 - val_accuracy: 0.9483 - val_loss: 0.1864 - learning_rate: 2.0000e-05\n",
      "Epoch 25/30\n",
      "\u001b[1m14918/14923\u001b[0m \u001b[32m━━━━━━━━━━━━━━━━━━━\u001b[0m\u001b[37m━\u001b[0m \u001b[1m0s\u001b[0m 9ms/step - accuracy: 0.9372 - loss: 0.1459\n",
      "Epoch 25: val_loss did not improve from 0.17816\n",
      "\u001b[1m14923/14923\u001b[0m \u001b[32m━━━━━━━━━━━━━━━━━━━━\u001b[0m\u001b[37m\u001b[0m \u001b[1m142s\u001b[0m 9ms/step - accuracy: 0.9372 - loss: 0.1459 - val_accuracy: 0.9485 - val_loss: 0.1800 - learning_rate: 2.0000e-05\n",
      "Epoch 26/30\n",
      "\u001b[1m14920/14923\u001b[0m \u001b[32m━━━━━━━━━━━━━━━━━━━\u001b[0m\u001b[37m━\u001b[0m \u001b[1m0s\u001b[0m 9ms/step - accuracy: 0.9378 - loss: 0.1423\n",
      "Epoch 26: ReduceLROnPlateau reducing learning rate to 4.000000262749381e-06.\n",
      "\n",
      "Epoch 26: val_loss did not improve from 0.17816\n",
      "\u001b[1m14923/14923\u001b[0m \u001b[32m━━━━━━━━━━━━━━━━━━━━\u001b[0m\u001b[37m\u001b[0m \u001b[1m142s\u001b[0m 10ms/step - accuracy: 0.9378 - loss: 0.1423 - val_accuracy: 0.9481 - val_loss: 0.1806 - learning_rate: 2.0000e-05\n",
      "Epoch 27/30\n",
      "\u001b[1m14918/14923\u001b[0m \u001b[32m━━━━━━━━━━━━━━━━━━━\u001b[0m\u001b[37m━\u001b[0m \u001b[1m0s\u001b[0m 9ms/step - accuracy: 0.9378 - loss: 0.1423\n",
      "Epoch 27: val_loss did not improve from 0.17816\n",
      "\u001b[1m14923/14923\u001b[0m \u001b[32m━━━━━━━━━━━━━━━━━━━━\u001b[0m\u001b[37m\u001b[0m \u001b[1m143s\u001b[0m 10ms/step - accuracy: 0.9378 - loss: 0.1423 - val_accuracy: 0.9486 - val_loss: 0.1798 - learning_rate: 4.0000e-06\n",
      "Epoch 28/30\n",
      "\u001b[1m14919/14923\u001b[0m \u001b[32m━━━━━━━━━━━━━━━━━━━\u001b[0m\u001b[37m━\u001b[0m \u001b[1m0s\u001b[0m 9ms/step - accuracy: 0.9379 - loss: 0.1415\n",
      "Epoch 28: val_loss did not improve from 0.17816\n",
      "\u001b[1m14923/14923\u001b[0m \u001b[32m━━━━━━━━━━━━━━━━━━━━\u001b[0m\u001b[37m\u001b[0m \u001b[1m141s\u001b[0m 9ms/step - accuracy: 0.9379 - loss: 0.1415 - val_accuracy: 0.9487 - val_loss: 0.1795 - learning_rate: 4.0000e-06\n",
      "Epoch 28: early stopping\n",
      "Restoring model weights from the end of the best epoch: 20.\n",
      "\u001b[1m4664/4664\u001b[0m \u001b[32m━━━━━━━━━━━━━━━━━━━━\u001b[0m\u001b[37m\u001b[0m \u001b[1m8s\u001b[0m 2ms/step\n",
      "\n",
      "Classification Report:\n",
      "              precision    recall  f1-score   support\n",
      "\n",
      "           0       1.00      0.89      0.94     60000\n",
      "           1       0.96      1.00      0.98     20484\n",
      "           2       0.96      0.99      0.98     40426\n",
      "           3       0.14      1.00      0.24       316\n",
      "           4       0.94      0.98      0.96     27643\n",
      "           5       0.21      0.97      0.34       355\n",
      "\n",
      "    accuracy                           0.95    149224\n",
      "   macro avg       0.70      0.97      0.74    149224\n",
      "weighted avg       0.97      0.95      0.95    149224\n",
      "\n"
     ]
    },
    {
     "data": {
      "image/png": "[encoded data removed]",
      "text/plain": [
       "<Figure size 1000x800 with 2 Axes>"
      ]
     },
     "metadata": {},
     "output_type": "display_data"
    },
    {
     "name": "stdout",
     "output_type": "stream",
     "text": [
      "\u001b[1m4664/4664\u001b[0m \u001b[32m━━━━━━━━━━━━━━━━━━━━\u001b[0m\u001b[37m\u001b[0m \u001b[1m10s\u001b[0m 2ms/step - accuracy: 0.9485 - loss: 0.1800\n",
      "Test accuracy: 0.9479\n"
     ]
    },
    {
     "data": {
      "image/png": "[encoded data removed]",
      "text/plain": [
       "<Figure size 1200x500 with 2 Axes>"
      ]
     },
     "metadata": {},
     "output_type": "display_data"
    },
    {
     "name": "stdout",
     "output_type": "stream",
     "text": [
      "Saved scaler_optimized.pkl, label_encoder_optimized.pkl, and selected_indices.pkl\n"
     ]
    }
   ],
   "source": [
    "# Main function\n",
    "def main():\n",
    "    try:\n",
    "        # Load dataset\n",
    "        path = r'C:\\Users\\ASUS\\Desktop\\PBL\\data\\resampled_dataset.csv'\n",
    "        df = pd.read_csv(path)\n",
    "        print(f\"Dataset loaded with shape: {df.shape}\")\n",
    "        \n",
    "        # Define mapping dictionary\n",
    "        label_mapping = {\n",
    "        'BENIGN': 'Benign Traffic',\n",
    "        'DoS Hulk': 'DoS Attacks',\n",
    "        'DoS GoldenEye': 'DoS Attacks',\n",
    "        'DoS slowloris': 'DoS Attacks',\n",
    "        'DoS Slowhttptest': 'DoS Attacks',\n",
    "        'DDoS': 'DDoS Attacks',\n",
    "        'PortScan': 'Port Scanning & Brute Force',\n",
    "        'FTP-Patator': 'Port Scanning & Brute Force',\n",
    "        'SSH-Patator': 'Port Scanning & Brute Force',\n",
    "        'Web Attack – Brute Force': 'Web-Based Attacks',\n",
    "        'Web Attack – XSS': 'Web-Based Attacks',\n",
    "        'Web Attack – Sql Injection': 'Web-Based Attacks',\n",
    "        'Bot': 'Other Exploits & Infiltrations',\n",
    "        ' Infiltration': 'Other Exploits & Infiltrations',\n",
    "        'Heartbleed': 'Other Exploits & Infiltrations'\n",
    "        }\n",
    "\n",
    "        # Apply mapping to create a new column with grouped labels\n",
    "        df['Label'] = df['Label'].map(label_mapping)\n",
    "        df['Label'].value_counts()\n",
    "        \n",
    "        \n",
    "        \n",
    "        # Encode labels\n",
    "        label_encoder = LabelEncoder()\n",
    "        df['Label'] = label_encoder.fit_transform(df['Label'])\n",
    "        print(f\"Encoded labels: {np.unique(df['Label'])}\")\n",
    "        \n",
    "        # Handle infinities and NaNs\n",
    "        df.replace([np.inf, -np.inf], np.nan, inplace=True)\n",
    "        df.fillna(df.mean(numeric_only=True), inplace=True)\n",
    "        \n",
    "        # Normalize features\n",
    "        scaler = MinMaxScaler()\n",
    "        X = df.drop(columns=['Label']).values\n",
    "        X_scaled = scaler.fit_transform(X)\n",
    "        y = df['Label'].values\n",
    "        \n",
    "        # Preprocess data with feature selection\n",
    "        X_train, X_val, X_test, y_train, y_val, y_test, scaler, selected_indices = preprocess_data(\n",
    "            X_scaled, y, k_features=50\n",
    "        )\n",
    "        \n",
    "        # Get input shape and number of classes\n",
    "        input_shape = (X_train.shape[1], X_train.shape[2])\n",
    "        num_classes = len(np.unique(y))\n",
    "        \n",
    "        # Print dataset info\n",
    "        print(f\"Training set shape: {X_train.shape}\")\n",
    "        print(f\"Validation set shape: {X_val.shape}\")\n",
    "        print(f\"Test set shape: {X_test.shape}\")\n",
    "        print(f\"Number of classes: {num_classes}\")\n",
    "        print(f\"Selected feature indices: {selected_indices}\")\n",
    "        print(\"Class distribution in training set:\", np.bincount(y_train))\n",
    "        \n",
    "        #Train the model\n",
    "        model, history = train_model(X_train, y_train, X_val, y_val, input_shape, num_classes)\n",
    "        \n",
    "        # Evaluate and visualize results\n",
    "        evaluate_model(model, X_test, y_test)\n",
    "        plot_training_history(history)\n",
    "        \n",
    "        # Save scaler, label encoder, and selected indices\n",
    "        joblib.dump(scaler, 'scaler_optimized.pkl')\n",
    "        joblib.dump(label_encoder, 'label_encoder_optimized.pkl')\n",
    "        joblib.dump(selected_indices, 'selected_indices.pkl')\n",
    "        print(\"Saved scaler_optimized.pkl, label_encoder_optimized.pkl, and selected_indices.pkl\")\n",
    "    except Exception as e:\n",
    "        print(f\"Error in main: {e}\")\n",
    "        raise\n",
    "\n",
    "if __name__ == \"__main__\":\n",
    "    main()"
   ]
  }
 ],
 "metadata": {
  "kernelspec": {
   "display_name": "Python 3",
   "language": "python",
   "name": "python3"
  },
  "language_info": {
   "codemirror_mode": {
    "name": "ipython",
    "version": 3
   },
   "file_extension": ".py",
   "mimetype": "text/x-python",
   "name": "python",
   "nbconvert_exporter": "python",
   "pygments_lexer": "ipython3",
   "version": "3.12.10"
  }
 },
 "nbformat": 4,
 "nbformat_minor": 5
}
